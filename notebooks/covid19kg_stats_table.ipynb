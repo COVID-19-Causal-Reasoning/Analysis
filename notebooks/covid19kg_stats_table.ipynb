{
 "cells": [
  {
   "cell_type": "markdown",
   "metadata": {},
   "source": [
    "# Statistics per BEL File\n",
    "\n",
    "This notebook calculates statistics for each BEL file about the type of entities and relationships."
   ]
  },
  {
   "cell_type": "code",
   "execution_count": 1,
   "metadata": {},
   "outputs": [],
   "source": [
    "import os\n",
    "import sys\n",
    "import time\n",
    "\n",
    "import pybel\n",
    "import pandas as pd\n",
    "\n",
    "import covid19kg"
   ]
  },
  {
   "cell_type": "markdown",
   "metadata": {},
   "source": [
    "### Notebook Provenance\n",
    "The explicit display of time of execution and the versions of the software packages used."
   ]
  },
  {
   "cell_type": "code",
   "execution_count": 2,
   "metadata": {},
   "outputs": [
    {
     "data": {
      "text/plain": [
       "'3.7.4 (v3.7.4:e09359112e, Jul  8 2019, 14:54:52) \\n[Clang 6.0 (clang-600.0.57)]'"
      ]
     },
     "execution_count": 2,
     "metadata": {},
     "output_type": "execute_result"
    }
   ],
   "source": [
    "sys.version"
   ]
  },
  {
   "cell_type": "code",
   "execution_count": 3,
   "metadata": {},
   "outputs": [
    {
     "data": {
      "text/plain": [
       "'Sun Apr 12 09:44:42 2020'"
      ]
     },
     "execution_count": 3,
     "metadata": {},
     "output_type": "execute_result"
    }
   ],
   "source": [
    "time.asctime()"
   ]
  },
  {
   "cell_type": "code",
   "execution_count": 4,
   "metadata": {},
   "outputs": [
    {
     "data": {
      "text/plain": [
       "'0.14.6'"
      ]
     },
     "execution_count": 4,
     "metadata": {},
     "output_type": "execute_result"
    }
   ],
   "source": [
    "pybel.get_version()"
   ]
  },
  {
   "cell_type": "code",
   "execution_count": 5,
   "metadata": {},
   "outputs": [],
   "source": [
    "HERE = os.path.abspath(os.path.dirname('__file__'))\n",
    "\n",
    "BEL_DIRECTORY = os.path.abspath(os.path.join(HERE, os.pardir, os.pardir, 'covid19kg', 'covid19kg'))\n",
    "\n",
    "def get_cached_bel_files():\n",
    "    \"\"\"Return all cached bel files.\"\"\"\n",
    "    return [\n",
    "        filename\n",
    "        for filename in os.listdir(BEL_DIRECTORY)\n",
    "        if filename.endswith(\".bel.nodelink.json\")\n",
    "    ]"
   ]
  },
  {
   "cell_type": "code",
   "execution_count": 6,
   "metadata": {},
   "outputs": [],
   "source": [
    "def get_bel_types(bel_path):\n",
    "    \"\"\"Get BEL node and edge type statistics.\n",
    "    \n",
    "    :param str path: path to BEL file (cached)\n",
    "    :return: count of all nodes and edges in a BEL graph\n",
    "    :rtype: dict\n",
    "    \"\"\"\n",
    "    bel_stats = {}\n",
    "\n",
    "    bel_graph = pybel.from_nodelink_file(bel_path)\n",
    "    \n",
    "    bel_stats['nodes'] = bel_graph.number_of_nodes()\n",
    "    bel_stats['edges'] = bel_graph.number_of_edges()\n",
    "\n",
    "    # Get count of all BEL function types\n",
    "    bel_functions_dict = pybel.struct.summary.count_functions(bel_graph)\n",
    "    bel_stats.update(bel_functions_dict)\n",
    "\n",
    "    # Get count of all BEL edge types\n",
    "    bel_edges_dict = pybel.struct.summary.edge_summary.count_relations(bel_graph)\n",
    "    bel_stats.update(bel_edges_dict)\n",
    "\n",
    "    return bel_stats"
   ]
  },
  {
   "cell_type": "code",
   "execution_count": 7,
   "metadata": {},
   "outputs": [],
   "source": [
    "BEL_STATS_COLUMN_NAMES = {\n",
    "    'nodes': '# Nodes',\n",
    "    'edges': '# Edges',\n",
    "    'Protein': '# Proteins',\n",
    "    'Gene': '# Genes',\n",
    "    'RNA': '# RNAs',\n",
    "    'Complex': '# Complexes',\n",
    "    'Abundance': '# Compounds',\n",
    "    'BiologicalProcess': '# Biological Processes',\n",
    "    'Composite': '# Composites',\n",
    "    'Pathology':'# Pathologies',\n",
    "    'Reaction': '# Reactions',\n",
    "    'increases': '# Increase Relations',\n",
    "    'decreases': '# Decrease Relations',\n",
    "    'association': '# Association Relations',\n",
    "    'regulates': '# Regulates Relations',\n",
    "    'directlyIncreases': '# Directly Increase Relations',\n",
    "    'directlyDecreases': '# Directly Decreases Relations',    \n",
    "    'isA': '# isA Relations',\n",
    "    'partOf': '# partOf Relations',\n",
    "    'hasComponent': '# Component Relations',\n",
    "    'hasVariant': '# Variant Relations',\n",
    "    'hasReactant': '# Reactants Relations',\n",
    "    'hasProduct': '# Products Relations',\n",
    "    'positiveCorrelation': '# Positive Correlation Relations',\n",
    "    'negativeCorrelation': '# Negative Correlation Relations',\n",
    "    'causesNoChange': '# CauseNoChange Relations',\n",
    "    'prognosticBiomarkerFor': '# PrognosticBiomarkerFor Relations',\n",
    "    'biomarkerFor': '# BiomarkerFor Relations',\n",
    "}"
   ]
  },
  {
   "cell_type": "code",
   "execution_count": 8,
   "metadata": {},
   "outputs": [],
   "source": [
    "def get_bel_stats(resource_folder):\n",
    "    \"\"\"Get all BEL node and edge type statistics.\n",
    "    :param str resource_folder: path to BEL folder\n",
    "    :return: count of all nodes and edges in all BEL graphs from one resource\n",
    "    :rtype: dict\n",
    "    \"\"\"\n",
    "    df = pd.DataFrame()\n",
    "    \n",
    "    for filename in sorted(get_cached_bel_files()):\n",
    "\n",
    "        bel_statistics_dict = get_bel_types(os.path.join(BEL_DIRECTORY, filename))\n",
    "\n",
    "        all_bel_statistics = {\n",
    "            BEL_STATS_COLUMN_NAMES[key]: value\n",
    "            for key, value in bel_statistics_dict.items()\n",
    "        }\n",
    "        \n",
    "        # Add statistic for the given file as a new row\n",
    "        bel_file_stats = pd.DataFrame(\n",
    "            all_bel_statistics,\n",
    "            index=[filename.strip('.bel.nodelink.json')],\n",
    "            columns=BEL_STATS_COLUMN_NAMES.values(),\n",
    "            dtype=int,\n",
    "        )\n",
    "\n",
    "        df = df.append(bel_file_stats.fillna(0).astype(int))\n",
    "\n",
    "    return df"
   ]
  },
  {
   "cell_type": "code",
   "execution_count": 9,
   "metadata": {
    "scrolled": false
   },
   "outputs": [],
   "source": [
    "covid19_kg_stats_df = get_bel_stats(BEL_DIRECTORY)"
   ]
  },
  {
   "cell_type": "code",
   "execution_count": 10,
   "metadata": {
    "scrolled": false
   },
   "outputs": [
    {
     "data": {
      "text/html": [
       "<div>\n",
       "<style scoped>\n",
       "    .dataframe tbody tr th:only-of-type {\n",
       "        vertical-align: middle;\n",
       "    }\n",
       "\n",
       "    .dataframe tbody tr th {\n",
       "        vertical-align: top;\n",
       "    }\n",
       "\n",
       "    .dataframe thead th {\n",
       "        text-align: right;\n",
       "    }\n",
       "</style>\n",
       "<table border=\"1\" class=\"dataframe\">\n",
       "  <thead>\n",
       "    <tr style=\"text-align: right;\">\n",
       "      <th></th>\n",
       "      <th># Nodes</th>\n",
       "      <th># Edges</th>\n",
       "      <th># Proteins</th>\n",
       "      <th># Genes</th>\n",
       "      <th># RNAs</th>\n",
       "      <th># Complexes</th>\n",
       "      <th># Compounds</th>\n",
       "      <th># Biological Processes</th>\n",
       "      <th># Composites</th>\n",
       "      <th># Pathologies</th>\n",
       "      <th>...</th>\n",
       "      <th># partOf Relations</th>\n",
       "      <th># Component Relations</th>\n",
       "      <th># Variant Relations</th>\n",
       "      <th># Reactants Relations</th>\n",
       "      <th># Products Relations</th>\n",
       "      <th># Positive Correlation Relations</th>\n",
       "      <th># Negative Correlation Relations</th>\n",
       "      <th># CauseNoChange Relations</th>\n",
       "      <th># PrognosticBiomarkerFor Relations</th>\n",
       "      <th># BiomarkerFor Relations</th>\n",
       "    </tr>\n",
       "  </thead>\n",
       "  <tbody>\n",
       "    <tr>\n",
       "      <th>15194747</th>\n",
       "      <td>9</td>\n",
       "      <td>13</td>\n",
       "      <td>5</td>\n",
       "      <td>0</td>\n",
       "      <td>0</td>\n",
       "      <td>3</td>\n",
       "      <td>1</td>\n",
       "      <td>0</td>\n",
       "      <td>0</td>\n",
       "      <td>0</td>\n",
       "      <td>...</td>\n",
       "      <td>6</td>\n",
       "      <td>0</td>\n",
       "      <td>1</td>\n",
       "      <td>0</td>\n",
       "      <td>0</td>\n",
       "      <td>0</td>\n",
       "      <td>0</td>\n",
       "      <td>0</td>\n",
       "      <td>0</td>\n",
       "      <td>0</td>\n",
       "    </tr>\n",
       "    <tr>\n",
       "      <th>15294014</th>\n",
       "      <td>19</td>\n",
       "      <td>30</td>\n",
       "      <td>15</td>\n",
       "      <td>0</td>\n",
       "      <td>0</td>\n",
       "      <td>1</td>\n",
       "      <td>0</td>\n",
       "      <td>3</td>\n",
       "      <td>0</td>\n",
       "      <td>0</td>\n",
       "      <td>...</td>\n",
       "      <td>2</td>\n",
       "      <td>0</td>\n",
       "      <td>4</td>\n",
       "      <td>0</td>\n",
       "      <td>0</td>\n",
       "      <td>0</td>\n",
       "      <td>6</td>\n",
       "      <td>0</td>\n",
       "      <td>0</td>\n",
       "      <td>0</td>\n",
       "    </tr>\n",
       "    <tr>\n",
       "      <th>15878679</th>\n",
       "      <td>11</td>\n",
       "      <td>32</td>\n",
       "      <td>9</td>\n",
       "      <td>0</td>\n",
       "      <td>0</td>\n",
       "      <td>0</td>\n",
       "      <td>1</td>\n",
       "      <td>0</td>\n",
       "      <td>0</td>\n",
       "      <td>1</td>\n",
       "      <td>...</td>\n",
       "      <td>0</td>\n",
       "      <td>0</td>\n",
       "      <td>5</td>\n",
       "      <td>0</td>\n",
       "      <td>0</td>\n",
       "      <td>16</td>\n",
       "      <td>0</td>\n",
       "      <td>0</td>\n",
       "      <td>0</td>\n",
       "      <td>0</td>\n",
       "    </tr>\n",
       "    <tr>\n",
       "      <th>15916886</th>\n",
       "      <td>11</td>\n",
       "      <td>15</td>\n",
       "      <td>5</td>\n",
       "      <td>0</td>\n",
       "      <td>0</td>\n",
       "      <td>0</td>\n",
       "      <td>1</td>\n",
       "      <td>4</td>\n",
       "      <td>0</td>\n",
       "      <td>1</td>\n",
       "      <td>...</td>\n",
       "      <td>0</td>\n",
       "      <td>0</td>\n",
       "      <td>1</td>\n",
       "      <td>0</td>\n",
       "      <td>0</td>\n",
       "      <td>0</td>\n",
       "      <td>0</td>\n",
       "      <td>0</td>\n",
       "      <td>0</td>\n",
       "      <td>0</td>\n",
       "    </tr>\n",
       "    <tr>\n",
       "      <th>16014971</th>\n",
       "      <td>14</td>\n",
       "      <td>14</td>\n",
       "      <td>6</td>\n",
       "      <td>0</td>\n",
       "      <td>6</td>\n",
       "      <td>1</td>\n",
       "      <td>0</td>\n",
       "      <td>1</td>\n",
       "      <td>0</td>\n",
       "      <td>0</td>\n",
       "      <td>...</td>\n",
       "      <td>0</td>\n",
       "      <td>0</td>\n",
       "      <td>0</td>\n",
       "      <td>0</td>\n",
       "      <td>0</td>\n",
       "      <td>0</td>\n",
       "      <td>0</td>\n",
       "      <td>0</td>\n",
       "      <td>0</td>\n",
       "      <td>0</td>\n",
       "    </tr>\n",
       "  </tbody>\n",
       "</table>\n",
       "<p>5 rows × 28 columns</p>\n",
       "</div>"
      ],
      "text/plain": [
       "          # Nodes  # Edges  # Proteins  # Genes  # RNAs  # Complexes  \\\n",
       "15194747        9       13           5        0       0            3   \n",
       "15294014       19       30          15        0       0            1   \n",
       "15878679       11       32           9        0       0            0   \n",
       "15916886       11       15           5        0       0            0   \n",
       "16014971       14       14           6        0       6            1   \n",
       "\n",
       "          # Compounds  # Biological Processes  # Composites  # Pathologies  \\\n",
       "15194747            1                       0             0              0   \n",
       "15294014            0                       3             0              0   \n",
       "15878679            1                       0             0              1   \n",
       "15916886            1                       4             0              1   \n",
       "16014971            0                       1             0              0   \n",
       "\n",
       "          ...  # partOf Relations  # Component Relations  # Variant Relations  \\\n",
       "15194747  ...                   6                      0                    1   \n",
       "15294014  ...                   2                      0                    4   \n",
       "15878679  ...                   0                      0                    5   \n",
       "15916886  ...                   0                      0                    1   \n",
       "16014971  ...                   0                      0                    0   \n",
       "\n",
       "          # Reactants Relations  # Products Relations  \\\n",
       "15194747                      0                     0   \n",
       "15294014                      0                     0   \n",
       "15878679                      0                     0   \n",
       "15916886                      0                     0   \n",
       "16014971                      0                     0   \n",
       "\n",
       "          # Positive Correlation Relations  # Negative Correlation Relations  \\\n",
       "15194747                                 0                                 0   \n",
       "15294014                                 0                                 6   \n",
       "15878679                                16                                 0   \n",
       "15916886                                 0                                 0   \n",
       "16014971                                 0                                 0   \n",
       "\n",
       "          # CauseNoChange Relations  # PrognosticBiomarkerFor Relations  \\\n",
       "15194747                          0                                   0   \n",
       "15294014                          0                                   0   \n",
       "15878679                          0                                   0   \n",
       "15916886                          0                                   0   \n",
       "16014971                          0                                   0   \n",
       "\n",
       "          # BiomarkerFor Relations  \n",
       "15194747                         0  \n",
       "15294014                         0  \n",
       "15878679                         0  \n",
       "15916886                         0  \n",
       "16014971                         0  \n",
       "\n",
       "[5 rows x 28 columns]"
      ]
     },
     "execution_count": 10,
     "metadata": {},
     "output_type": "execute_result"
    }
   ],
   "source": [
    "covid19_kg_stats_df.head()"
   ]
  },
  {
   "cell_type": "code",
   "execution_count": 11,
   "metadata": {},
   "outputs": [],
   "source": [
    "covid19_kg_stats_df.to_csv(\"covid19_kg_stats.tsv\", sep='\\t')"
   ]
  },
  {
   "cell_type": "code",
   "execution_count": null,
   "metadata": {},
   "outputs": [],
   "source": []
  }
 ],
 "metadata": {
  "kernelspec": {
   "display_name": "Python 3",
   "language": "python",
   "name": "python3"
  },
  "language_info": {
   "codemirror_mode": {
    "name": "ipython",
    "version": 3
   },
   "file_extension": ".py",
   "mimetype": "text/x-python",
   "name": "python",
   "nbconvert_exporter": "python",
   "pygments_lexer": "ipython3",
   "version": "3.7.4"
  }
 },
 "nbformat": 4,
 "nbformat_minor": 2
}
